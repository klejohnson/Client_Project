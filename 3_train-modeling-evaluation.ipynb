{
 "cells": [
  {
   "cell_type": "markdown",
   "metadata": {},
   "source": [
    "# Social Media Disaster Alert System"
   ]
  },
  {
   "cell_type": "markdown",
   "metadata": {},
   "source": [
    "## Training and Preprocessing"
   ]
  },
  {
   "cell_type": "markdown",
   "metadata": {},
   "source": [
    "In this notebook we review our cleaned data and look to process it for modeling."
   ]
  },
  {
   "cell_type": "code",
   "execution_count": 8,
   "metadata": {},
   "outputs": [],
   "source": [
    "import pandas as pd\n",
    "import numpy as np\n",
    "import requests\n",
    "import time\n",
    "import matplotlib.pyplot as plt\n",
    "import seaborn as sns\n",
    "import regex as re\n",
    "from nltk.tokenize import RegexpTokenizer\n",
    "from nltk.stem import WordNetLemmatizer\n",
    "from nltk.stem.porter import PorterStemmer\n",
    "from sklearn.model_selection import train_test_split, GridSearchCV\n",
    "from nltk.corpus import stopwords\n",
    "from sklearn.feature_extraction.text import CountVectorizer, TfidfVectorizer\n",
    "from sklearn.linear_model import LogisticRegression\n",
    "from sklearn.naive_bayes import MultinomialNB, GaussianNB, BernoulliNB\n",
    "from sklearn.pipeline import Pipeline\n",
    "from sklearn.metrics import confusion_matrix, roc_curve, auc\n",
    "from sklearn.tree import DecisionTreeClassifier\n",
    "from sklearn.ensemble import RandomForestClassifier, BaggingClassifier\n",
    "import warnings\n",
    "\n",
    "warnings.filterwarnings('ignore')"
   ]
  },
  {
   "cell_type": "markdown",
   "metadata": {},
   "source": [
    "We are continuing to use the same dataset that was saved to a csv file in the previous notebook."
   ]
  },
  {
   "cell_type": "code",
   "execution_count": 9,
   "metadata": {},
   "outputs": [],
   "source": [
    "final_df = pd.read_csv('./Data/final_df.csv')"
   ]
  },
  {
   "cell_type": "markdown",
   "metadata": {},
   "source": [
    "Unfortunately whenever a csv file is read into Jupyter Notebook, it is read in with an \"Unnamed: 0\" column which always has to be dropped."
   ]
  },
  {
   "cell_type": "code",
   "execution_count": 10,
   "metadata": {},
   "outputs": [
    {
     "data": {
      "text/html": [
       "<div>\n",
       "<style scoped>\n",
       "    .dataframe tbody tr th:only-of-type {\n",
       "        vertical-align: middle;\n",
       "    }\n",
       "\n",
       "    .dataframe tbody tr th {\n",
       "        vertical-align: top;\n",
       "    }\n",
       "\n",
       "    .dataframe thead th {\n",
       "        text-align: right;\n",
       "    }\n",
       "</style>\n",
       "<table border=\"1\" class=\"dataframe\">\n",
       "  <thead>\n",
       "    <tr style=\"text-align: right;\">\n",
       "      <th></th>\n",
       "      <th>tweet id</th>\n",
       "      <th>tweet</th>\n",
       "      <th>label</th>\n",
       "      <th>lemmatized_title</th>\n",
       "    </tr>\n",
       "  </thead>\n",
       "  <tbody>\n",
       "    <tr>\n",
       "      <th>0</th>\n",
       "      <td>'262596552399396864'</td>\n",
       "      <td>I've got enough candles to supply a Mexican fa...</td>\n",
       "      <td>0.0</td>\n",
       "      <td>i ve got enough candle to supply a mexican family</td>\n",
       "    </tr>\n",
       "    <tr>\n",
       "      <th>1</th>\n",
       "      <td>'263044104500420609'</td>\n",
       "      <td>Sandy be soooo mad that she be shattering our ...</td>\n",
       "      <td>1.0</td>\n",
       "      <td>sandy be soooo mad that she be shattering our ...</td>\n",
       "    </tr>\n",
       "    <tr>\n",
       "      <th>2</th>\n",
       "      <td>'263309629973491712'</td>\n",
       "      <td>@ibexgirl thankfully Hurricane Waugh played it...</td>\n",
       "      <td>0.0</td>\n",
       "      <td>ibexgirl thankfully hurricane waugh played it ...</td>\n",
       "    </tr>\n",
       "    <tr>\n",
       "      <th>3</th>\n",
       "      <td>'263422851133079552'</td>\n",
       "      <td>@taos you never got that magnificent case of B...</td>\n",
       "      <td>0.0</td>\n",
       "      <td>tao you never got that magnificent case of bur...</td>\n",
       "    </tr>\n",
       "    <tr>\n",
       "      <th>4</th>\n",
       "      <td>'262404311223504896'</td>\n",
       "      <td>I'm at Mad River Bar &amp;amp; Grille (New York, N...</td>\n",
       "      <td>0.0</td>\n",
       "      <td>i m at mad river bar amp grille new york ny ht...</td>\n",
       "    </tr>\n",
       "  </tbody>\n",
       "</table>\n",
       "</div>"
      ],
      "text/plain": [
       "               tweet id                                              tweet  \\\n",
       "0  '262596552399396864'  I've got enough candles to supply a Mexican fa...   \n",
       "1  '263044104500420609'  Sandy be soooo mad that she be shattering our ...   \n",
       "2  '263309629973491712'  @ibexgirl thankfully Hurricane Waugh played it...   \n",
       "3  '263422851133079552'  @taos you never got that magnificent case of B...   \n",
       "4  '262404311223504896'  I'm at Mad River Bar &amp; Grille (New York, N...   \n",
       "\n",
       "    label                                   lemmatized_title  \n",
       "0     0.0  i ve got enough candle to supply a mexican family  \n",
       "1     1.0  sandy be soooo mad that she be shattering our ...  \n",
       "2     0.0  ibexgirl thankfully hurricane waugh played it ...  \n",
       "3     0.0  tao you never got that magnificent case of bur...  \n",
       "4     0.0  i m at mad river bar amp grille new york ny ht...  "
      ]
     },
     "execution_count": 10,
     "metadata": {},
     "output_type": "execute_result"
    }
   ],
   "source": [
    "final_df.drop(columns=['Unnamed: 0'], inplace=True)\n",
    "final_df.head()"
   ]
  },
  {
   "cell_type": "markdown",
   "metadata": {},
   "source": [
    "Additionally null values were also unfortunately read into the notebook. A quick line of code to check and drop nulls value is shown as below."
   ]
  },
  {
   "cell_type": "code",
   "execution_count": 11,
   "metadata": {},
   "outputs": [
    {
     "data": {
      "text/plain": [
       "tweet id            1\n",
       " tweet              1\n",
       " label              3\n",
       "lemmatized_title    3\n",
       "dtype: int64"
      ]
     },
     "execution_count": 11,
     "metadata": {},
     "output_type": "execute_result"
    }
   ],
   "source": [
    "final_df.isnull().sum()"
   ]
  },
  {
   "cell_type": "code",
   "execution_count": 12,
   "metadata": {},
   "outputs": [],
   "source": [
    "final_df.dropna(inplace=True)"
   ]
  },
  {
   "cell_type": "code",
   "execution_count": 13,
   "metadata": {},
   "outputs": [
    {
     "data": {
      "text/plain": [
       "(60081, 4)"
      ]
     },
     "execution_count": 13,
     "metadata": {},
     "output_type": "execute_result"
    }
   ],
   "source": [
    "final_df.shape"
   ]
  },
  {
   "cell_type": "markdown",
   "metadata": {},
   "source": [
    "To prepare our model, we have to specifiy our features and target variable. We will be using the newly lemmatized titles as our features to predict our target variable of \" label\" which pertains to relevance of the tweet to the disaster."
   ]
  },
  {
   "cell_type": "code",
   "execution_count": 14,
   "metadata": {},
   "outputs": [],
   "source": [
    "X = final_df['lemmatized_title']\n",
    "y = final_df[' label']"
   ]
  },
  {
   "cell_type": "markdown",
   "metadata": {},
   "source": [
    "The standard train-test split was implemented in order to create a dataset the model will not have seen. This allows us to test our well our model will do on unseen data."
   ]
  },
  {
   "cell_type": "code",
   "execution_count": 15,
   "metadata": {},
   "outputs": [],
   "source": [
    "X_train, X_test, y_train, y_test = train_test_split(X, y, random_state = 42, stratify = y )"
   ]
  },
  {
   "cell_type": "markdown",
   "metadata": {},
   "source": [
    "The following several codeblocks are combinations of classification models and vectorizers as well as specific parameters that were tuned. Using Pipeline and GridSearchCV, we are able to play around with several different combinations with ease and generate an accuracy score for each model-vector combination."
   ]
  },
  {
   "cell_type": "code",
   "execution_count": 17,
   "metadata": {
    "scrolled": true
   },
   "outputs": [
    {
     "name": "stdout",
     "output_type": "stream",
     "text": [
      "The best cross validation score was 0.9492454505104305.\n",
      "The best parameters were {'cvec__max_features': 1500, 'cvec__ngram_range': (1, 2), 'cvec__stop_words': 'english', 'logreg__penalty': 'l1'}.\n",
      "The model scored 0.9551930758988016 on the training data.\n",
      "The model scored 0.9488050063244791 on the test data.\n"
     ]
    }
   ],
   "source": [
    "pipe1 = Pipeline([\n",
    "    ('cvec',CountVectorizer()),\n",
    "    ('logreg', LogisticRegression())\n",
    "])\n",
    "\n",
    "pipe1_params = {\n",
    "    'cvec__ngram_range' : [(1,1), (1,2)],\n",
    "    'cvec__stop_words' : ['english'],\n",
    "    'cvec__max_features' : [1500, 2000, 2500, 3000],\n",
    "    'logreg__penalty' : ['l1', 'l2']\n",
    "}\n",
    "\n",
    "gs1 = GridSearchCV(pipe1,pipe1_params,cv = 5)\n",
    "gs1.fit(X_train, y_train)\n",
    "print(f'The best cross validation score was {gs1.best_score_}.') \n",
    "print(f'The best parameters were {gs1.best_params_}.') \n",
    "print(f'The model scored {gs1.score(X_train,y_train)} on the training data.')\n",
    "print(f'The model scored {gs1.score(X_test,y_test)} on the test data.')"
   ]
  },
  {
   "cell_type": "code",
   "execution_count": 15,
   "metadata": {},
   "outputs": [
    {
     "name": "stdout",
     "output_type": "stream",
     "text": [
      "The best cross validation score was 0.9461606746560142.\n",
      "The best parameters were {'logreg__penalty': 'l1', 'tfidf__ngram_range': (1, 1), 'tfidf__stop_words': 'english'}.\n",
      "The model scored 0.9509542831779849 on the training data.\n",
      "The model scored 0.9479395512948539 on the test data.\n"
     ]
    }
   ],
   "source": [
    "pipe2 = Pipeline([\n",
    "    ('tfidf',TfidfVectorizer()),\n",
    "    ('logreg', LogisticRegression())\n",
    "])\n",
    "\n",
    "pipe2_params = {\n",
    "    'tfidf__ngram_range' : [(1,1), (1,2)],\n",
    "    'tfidf__stop_words' : ['english'],\n",
    "    'tfidf__max_features' : [1500, 2000, 2500, 3000]'\n",
    "    'logreg__penalty' : ['l1', 'l2']\n",
    "}\n",
    "\n",
    "gs2 = GridSearchCV(pipe2,pipe2_params,cv = 5)\n",
    "gs2.fit(X_train, y_train)\n",
    "print(f'The best cross validation score was {gs2.best_score_}.') \n",
    "print(f'The best parameters were {gs2.best_params_}.') \n",
    "print(f'The model scored {gs2.score(X_train,y_train)} on the training data.')\n",
    "print(f'The model scored {gs2.score(X_test,y_test)} on the test data.')"
   ]
  },
  {
   "cell_type": "code",
   "execution_count": 16,
   "metadata": {},
   "outputs": [
    {
     "name": "stdout",
     "output_type": "stream",
     "text": [
      "The best cross validation score was 0.9067021748779405.\n",
      "The best parameters were {'cvec__ngram_range': (1, 2), 'cvec__stop_words': 'english', 'multi__alpha': 0.5}.\n",
      "The model scored 0.985219707057257 on the training data.\n",
      "The model scored 0.9113241461953265 on the test data.\n"
     ]
    }
   ],
   "source": [
    "pipe3 = Pipeline([\n",
    "    ('cvec',CountVectorizer()),\n",
    "    ('multi', MultinomialNB())\n",
    "])\n",
    "\n",
    "pipe3_params = {\n",
    "    'cvec__ngram_range' : [(1,1), (1,2)],\n",
    "    'cvec__stop_words' : ['english'],\n",
    "    'multi__alpha' : [0.0, 0.5, 1.0]\n",
    "}\n",
    "\n",
    "gs3 = GridSearchCV(pipe3,pipe3_params,cv = 5)\n",
    "gs3.fit(X_train, y_train)\n",
    "print(f'The best cross validation score was {gs3.best_score_}.') \n",
    "print(f'The best parameters were {gs3.best_params_}.') \n",
    "print(f'The model scored {gs3.score(X_train,y_train)} on the training data.')\n",
    "print(f'The model scored {gs3.score(X_test,y_test)} on the test data.')"
   ]
  },
  {
   "cell_type": "code",
   "execution_count": 18,
   "metadata": {},
   "outputs": [
    {
     "name": "stdout",
     "output_type": "stream",
     "text": [
      "The best cross validation score was 0.8933865956502441.\n",
      "The best parameters were {'multi__alpha': 0.5, 'tfidf__ngram_range': (1, 2), 'tfidf__stop_words': 'english'}.\n",
      "The model scored 0.9833999112294718 on the training data.\n",
      "The model scored 0.8966114106916983 on the test data.\n"
     ]
    }
   ],
   "source": [
    "pipe4 = Pipeline([\n",
    "    ('tfidf',TfidfVectorizer()),\n",
    "    ('multi', MultinomialNB())\n",
    "])\n",
    "\n",
    "pipe4_params = {\n",
    "    'tfidf__ngram_range' : [(1,1), (1,2)],\n",
    "    'tfidf__stop_words' : ['english'],\n",
    "    'multi__alpha' : [0.0, 0.5, 1.0]\n",
    "}\n",
    "\n",
    "gs4 = GridSearchCV(pipe4,pipe4_params,cv = 5)\n",
    "gs4.fit(X_train, y_train)\n",
    "print(f'The best cross validation score was {gs4.best_score_}.') \n",
    "print(f'The best parameters were {gs4.best_params_}.') \n",
    "print(f'The model scored {gs4.score(X_train,y_train)} on the training data.')\n",
    "print(f'The model scored {gs4.score(X_test,y_test)} on the test data.')"
   ]
  },
  {
   "cell_type": "code",
   "execution_count": 42,
   "metadata": {},
   "outputs": [
    {
     "name": "stdout",
     "output_type": "stream",
     "text": [
      "The best cross validation score was 0.9341322680869951.\n",
      "The best parameters were {'cvec__ngram_range': (1, 1), 'cvec__stop_words': 'english'}.\n",
      "The model scored 0.9944074567243675 on the training data.\n",
      "The model scored 0.9365554889820917 on the test data.\n"
     ]
    }
   ],
   "source": [
    "pipe5 = Pipeline([\n",
    "    ('cvec',CountVectorizer()),\n",
    "    ('rf', RandomForestClassifier())\n",
    "])\n",
    "\n",
    "pipe5_params = {\n",
    "    'cvec__ngram_range' : [(1,1), (1,2)],\n",
    "    'cvec__stop_words' : ['english']\n",
    "}\n",
    "\n",
    "gs5 = GridSearchCV(pipe5,pipe5_params,cv = 5)\n",
    "gs5.fit(X_train, y_train)\n",
    "print(f'The best cross validation score was {gs5.best_score_}.') \n",
    "print(f'The best parameters were {gs5.best_params_}.') \n",
    "print(f'The model scored {gs5.score(X_train,y_train)} on the training data.')\n",
    "print(f'The model scored {gs5.score(X_test,y_test)} on the test data.')"
   ]
  },
  {
   "cell_type": "code",
   "execution_count": null,
   "metadata": {},
   "outputs": [],
   "source": [
    "pipe6 = Pipeline([\n",
    "    ('tfidf', TfidfVectorizer()),\n",
    "    ('rf', RandomForestClassifier())\n",
    "])\n",
    "\n",
    "pipe6_params = {\n",
    "    'tfidf__ngram_range' : [(1,1), (1,2)],\n",
    "    'tfidf__stop_words' : ['english'],\n",
    "    'rf__n_estimators': [100, 150, 200],\n",
    "    'rf__max_depth': [None, 1, 2, 3, 4, 5]\n",
    "}\n",
    "\n",
    "gs6 = GridSearchCV(pipe6,pipe6_params,cv = 5)\n",
    "gs6.fit(X_train, y_train)\n",
    "print(f'The best cross validation score was {gs6.best_score_}.') \n",
    "print(f'The best parameters were {gs6.best_params_}.') \n",
    "print(f'The model scored {gs6.score(X_train,y_train)} on the training data.')\n",
    "print(f'The model scored {gs6.score(X_test,y_test)} on the test data.')"
   ]
  },
  {
   "cell_type": "code",
   "execution_count": null,
   "metadata": {},
   "outputs": [],
   "source": [
    "pipe7 = Pipeline([\n",
    "    ('cvec',CountVectorizer()),\n",
    "    ('bc', BaggingClassifier())\n",
    "])\n",
    "\n",
    "pipe7_params = {\n",
    "    'cvec__ngram_range' : [(1,1), (1,2)],\n",
    "    'cvec__stop_words' : ['english']\n",
    "}\n",
    "\n",
    "gs7 = GridSearchCV(pipe7,pipe7_params,cv = 5)\n",
    "gs7.fit(X_train, y_train)\n",
    "print(f'The best cross validation score was {gs7.best_score_}.') \n",
    "print(f'The best parameters were {gs7.best_params_}.') \n",
    "print(f'The model scored {gs7.score(X_train,y_train)} on the training data.')\n",
    "print(f'The model scored {gs7.score(X_test,y_test)} on the test data.')"
   ]
  },
  {
   "cell_type": "markdown",
   "metadata": {},
   "source": [
    "After running each model-vector combination, the first Pipeline-Gridsearch was found to have performed the best. This combination included a Linear Regression model with a Count Vectorizer. We will use this model-vector combination moving forward in our evaluations and to predict on live Twitter data."
   ]
  },
  {
   "cell_type": "markdown",
   "metadata": {},
   "source": [
    "Confusion matrixes allow us to see how many observations were predicted correctly or incorrectly as well as how many false positives or negatives the model predicted. This is an important metric because it gives us insight into what predictions can be conceptually harmful in real-life applications. "
   ]
  },
  {
   "cell_type": "code",
   "execution_count": 29,
   "metadata": {},
   "outputs": [],
   "source": [
    "y1_pred = gs1.predict(X_test)"
   ]
  },
  {
   "cell_type": "code",
   "execution_count": 30,
   "metadata": {},
   "outputs": [],
   "source": [
    "matrix = confusion_matrix(y_test, y1_pred)"
   ]
  },
  {
   "cell_type": "code",
   "execution_count": 31,
   "metadata": {},
   "outputs": [
    {
     "data": {
      "text/plain": [
       "array([[6530,  375],\n",
       "       [ 394, 7722]])"
      ]
     },
     "execution_count": 31,
     "metadata": {},
     "output_type": "execute_result"
    }
   ],
   "source": [
    "matrix"
   ]
  },
  {
   "cell_type": "markdown",
   "metadata": {},
   "source": [
    "From the matrix above, the model predicted 375 false negatives and 394 false positives. False negatives are tweets that were predicted to be irrelevant but in reality, there actually was a disaster or an emergency occuring. False positives are tweets were predicted to be relevant, but in reality there was no disaster or emergency. In the future, false negatives should be minimized as they pose a greater threat to the public."
   ]
  },
  {
   "cell_type": "markdown",
   "metadata": {},
   "source": [
    "An ROC curve allows to see visualize how a model did in distinguishing between our positive and negative classes. To recall, we set our positive class as \"on-topic\" and our negative class as \"off-topic\"."
   ]
  },
  {
   "cell_type": "code",
   "execution_count": 25,
   "metadata": {},
   "outputs": [],
   "source": [
    "yhat_pp = gs1.predict_proba(X_test)"
   ]
  },
  {
   "cell_type": "code",
   "execution_count": 26,
   "metadata": {},
   "outputs": [
    {
     "data": {
      "image/png": "[encoded data removed]",
      "text/plain": [
       "<Figure size 576x576 with 1 Axes>"
      ]
     },
     "metadata": {
      "needs_background": "light"
     },
     "output_type": "display_data"
    }
   ],
   "source": [
    "# Plot a ROC Curve and find the area under the curve for class 1 (is_self = True)\n",
    "# fpr: false positive rate, tpr: true positive rate\n",
    "fp, tp, thresh = roc_curve(y_test, yhat_pp[:,1])  \n",
    "roc_auc = auc(fp, tp) \n",
    "\n",
    "plt.figure(figsize=[8,8])\n",
    "plt.plot(fp, tp, label='ROC curve (area = %0.2f)' % roc_auc, linewidth=4)\n",
    "plt.plot([0, 1], [0, 1], 'k--', linewidth=4)\n",
    "plt.xlim([-0.05, 1.0])\n",
    "plt.ylim([-0.05, 1.05])\n",
    "plt.xlabel('False Positive Rate', fontsize=18)\n",
    "plt.ylabel('True Positive Rate', fontsize=18)\n",
    "plt.title('ROC for Classifying Pro Tips', fontsize=18)\n",
    "plt.legend(loc=\"lower right\")\n",
    "plt.show()"
   ]
  },
  {
   "cell_type": "code",
   "execution_count": null,
   "metadata": {},
   "outputs": [],
   "source": []
  },
  {
   "cell_type": "markdown",
   "metadata": {},
   "source": [
    "## Predicting on Live Data"
   ]
  },
  {
   "cell_type": "markdown",
   "metadata": {},
   "source": [
    "Using the first Pipeline-GridSearch combination with Linear Regression and Count Vectorizer, we predicted tweet relevance. This dataset is data scraped from Twitter's API so we are looking at very recent tweets from actual users. "
   ]
  },
  {
   "cell_type": "code",
   "execution_count": 4,
   "metadata": {},
   "outputs": [],
   "source": [
    "emergency_tweet_final = pd.read_csv('./Sidd_Final/emergency_tweet_final.csv')"
   ]
  },
  {
   "cell_type": "code",
   "execution_count": 5,
   "metadata": {},
   "outputs": [
    {
     "data": {
      "text/html": [
       "<div>\n",
       "<style scoped>\n",
       "    .dataframe tbody tr th:only-of-type {\n",
       "        vertical-align: middle;\n",
       "    }\n",
       "\n",
       "    .dataframe tbody tr th {\n",
       "        vertical-align: top;\n",
       "    }\n",
       "\n",
       "    .dataframe thead th {\n",
       "        text-align: right;\n",
       "    }\n",
       "</style>\n",
       "<table border=\"1\" class=\"dataframe\">\n",
       "  <thead>\n",
       "    <tr style=\"text-align: right;\">\n",
       "      <th></th>\n",
       "      <th>time</th>\n",
       "      <th>text</th>\n",
       "      <th>lat</th>\n",
       "      <th>lon</th>\n",
       "    </tr>\n",
       "  </thead>\n",
       "  <tbody>\n",
       "    <tr>\n",
       "      <th>0</th>\n",
       "      <td>2019-07-30 16:45:02</td>\n",
       "      <td>RT @BloodAid: #Hyderabad #Emergency Need A+ #b...</td>\n",
       "      <td>40.754305</td>\n",
       "      <td>-74.144927</td>\n",
       "    </tr>\n",
       "    <tr>\n",
       "      <th>1</th>\n",
       "      <td>2019-07-30 16:43:29</td>\n",
       "      <td>RT @HoxworthUC: #CRITICAL APPEAL: Due to multi...</td>\n",
       "      <td>40.856658</td>\n",
       "      <td>-74.101605</td>\n",
       "    </tr>\n",
       "    <tr>\n",
       "      <th>2</th>\n",
       "      <td>2019-07-30 16:43:00</td>\n",
       "      <td>RT @terapump_socal: No Leak, No Hassle and No ...</td>\n",
       "      <td>40.625146</td>\n",
       "      <td>-73.771159</td>\n",
       "    </tr>\n",
       "    <tr>\n",
       "      <th>3</th>\n",
       "      <td>2019-07-30 16:42:56</td>\n",
       "      <td>RT @BloodAid: #Hyderabad #Emergency Need A+ #b...</td>\n",
       "      <td>40.871323</td>\n",
       "      <td>-73.766075</td>\n",
       "    </tr>\n",
       "    <tr>\n",
       "      <th>4</th>\n",
       "      <td>2019-07-30 16:42:19</td>\n",
       "      <td>RT @BloodAid: #Hyderabad #Emergency Need A+ #b...</td>\n",
       "      <td>40.619937</td>\n",
       "      <td>-73.992653</td>\n",
       "    </tr>\n",
       "  </tbody>\n",
       "</table>\n",
       "</div>"
      ],
      "text/plain": [
       "                  time                                               text  \\\n",
       "0  2019-07-30 16:45:02  RT @BloodAid: #Hyderabad #Emergency Need A+ #b...   \n",
       "1  2019-07-30 16:43:29  RT @HoxworthUC: #CRITICAL APPEAL: Due to multi...   \n",
       "2  2019-07-30 16:43:00  RT @terapump_socal: No Leak, No Hassle and No ...   \n",
       "3  2019-07-30 16:42:56  RT @BloodAid: #Hyderabad #Emergency Need A+ #b...   \n",
       "4  2019-07-30 16:42:19  RT @BloodAid: #Hyderabad #Emergency Need A+ #b...   \n",
       "\n",
       "         lat        lon  \n",
       "0  40.754305 -74.144927  \n",
       "1  40.856658 -74.101605  \n",
       "2  40.625146 -73.771159  \n",
       "3  40.871323 -73.766075  \n",
       "4  40.619937 -73.992653  "
      ]
     },
     "execution_count": 5,
     "metadata": {},
     "output_type": "execute_result"
    }
   ],
   "source": [
    "emergency_tweet_final.drop(columns='Unnamed: 0', inplace=True)\n",
    "emergency_tweet_final.head()"
   ]
  },
  {
   "cell_type": "markdown",
   "metadata": {},
   "source": [
    "\"gs1\" is our Linear Regression model with CountVectorizer. We are using the same combination to generate an array of predictions on our actual Twitter data and then creating a \"label\" column in the dataset."
   ]
  },
  {
   "cell_type": "code",
   "execution_count": 18,
   "metadata": {},
   "outputs": [
    {
     "data": {
      "text/plain": [
       "array([1., 0., 0., ..., 0., 1., 0.])"
      ]
     },
     "execution_count": 18,
     "metadata": {},
     "output_type": "execute_result"
    }
   ],
   "source": [
    "gs1.predict(emergency_tweet_final['text'])"
   ]
  },
  {
   "cell_type": "code",
   "execution_count": 21,
   "metadata": {},
   "outputs": [],
   "source": [
    "emergency_tweet_final['label'] = gs1.predict(emergency_tweet_final['text'])"
   ]
  },
  {
   "cell_type": "code",
   "execution_count": 22,
   "metadata": {},
   "outputs": [
    {
     "data": {
      "text/html": [
       "<div>\n",
       "<style scoped>\n",
       "    .dataframe tbody tr th:only-of-type {\n",
       "        vertical-align: middle;\n",
       "    }\n",
       "\n",
       "    .dataframe tbody tr th {\n",
       "        vertical-align: top;\n",
       "    }\n",
       "\n",
       "    .dataframe thead th {\n",
       "        text-align: right;\n",
       "    }\n",
       "</style>\n",
       "<table border=\"1\" class=\"dataframe\">\n",
       "  <thead>\n",
       "    <tr style=\"text-align: right;\">\n",
       "      <th></th>\n",
       "      <th>time</th>\n",
       "      <th>text</th>\n",
       "      <th>lat</th>\n",
       "      <th>lon</th>\n",
       "      <th>label</th>\n",
       "    </tr>\n",
       "  </thead>\n",
       "  <tbody>\n",
       "    <tr>\n",
       "      <th>0</th>\n",
       "      <td>2019-07-30 16:45:02</td>\n",
       "      <td>RT @BloodAid: #Hyderabad #Emergency Need A+ #b...</td>\n",
       "      <td>40.754305</td>\n",
       "      <td>-74.144927</td>\n",
       "      <td>1.0</td>\n",
       "    </tr>\n",
       "    <tr>\n",
       "      <th>1</th>\n",
       "      <td>2019-07-30 16:43:29</td>\n",
       "      <td>RT @HoxworthUC: #CRITICAL APPEAL: Due to multi...</td>\n",
       "      <td>40.856658</td>\n",
       "      <td>-74.101605</td>\n",
       "      <td>0.0</td>\n",
       "    </tr>\n",
       "    <tr>\n",
       "      <th>2</th>\n",
       "      <td>2019-07-30 16:43:00</td>\n",
       "      <td>RT @terapump_socal: No Leak, No Hassle and No ...</td>\n",
       "      <td>40.625146</td>\n",
       "      <td>-73.771159</td>\n",
       "      <td>0.0</td>\n",
       "    </tr>\n",
       "    <tr>\n",
       "      <th>3</th>\n",
       "      <td>2019-07-30 16:42:56</td>\n",
       "      <td>RT @BloodAid: #Hyderabad #Emergency Need A+ #b...</td>\n",
       "      <td>40.871323</td>\n",
       "      <td>-73.766075</td>\n",
       "      <td>1.0</td>\n",
       "    </tr>\n",
       "    <tr>\n",
       "      <th>4</th>\n",
       "      <td>2019-07-30 16:42:19</td>\n",
       "      <td>RT @BloodAid: #Hyderabad #Emergency Need A+ #b...</td>\n",
       "      <td>40.619937</td>\n",
       "      <td>-73.992653</td>\n",
       "      <td>1.0</td>\n",
       "    </tr>\n",
       "  </tbody>\n",
       "</table>\n",
       "</div>"
      ],
      "text/plain": [
       "                  time                                               text  \\\n",
       "0  2019-07-30 16:45:02  RT @BloodAid: #Hyderabad #Emergency Need A+ #b...   \n",
       "1  2019-07-30 16:43:29  RT @HoxworthUC: #CRITICAL APPEAL: Due to multi...   \n",
       "2  2019-07-30 16:43:00  RT @terapump_socal: No Leak, No Hassle and No ...   \n",
       "3  2019-07-30 16:42:56  RT @BloodAid: #Hyderabad #Emergency Need A+ #b...   \n",
       "4  2019-07-30 16:42:19  RT @BloodAid: #Hyderabad #Emergency Need A+ #b...   \n",
       "\n",
       "         lat        lon  label  \n",
       "0  40.754305 -74.144927    1.0  \n",
       "1  40.856658 -74.101605    0.0  \n",
       "2  40.625146 -73.771159    0.0  \n",
       "3  40.871323 -73.766075    1.0  \n",
       "4  40.619937 -73.992653    1.0  "
      ]
     },
     "execution_count": 22,
     "metadata": {},
     "output_type": "execute_result"
    }
   ],
   "source": [
    "emergency_tweet_final.head()"
   ]
  },
  {
   "cell_type": "code",
   "execution_count": null,
   "metadata": {},
   "outputs": [],
   "source": []
  }
 ],
 "metadata": {
  "kernelspec": {
   "display_name": "Python 3",
   "language": "python",
   "name": "python3"
  },
  "language_info": {
   "codemirror_mode": {
    "name": "ipython",
    "version": 3
   },
   "file_extension": ".py",
   "mimetype": "text/x-python",
   "name": "python",
   "nbconvert_exporter": "python",
   "pygments_lexer": "ipython3",
   "version": "3.7.3"
  }
 },
 "nbformat": 4,
 "nbformat_minor": 2
}
