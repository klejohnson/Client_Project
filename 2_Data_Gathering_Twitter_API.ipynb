{
 "cells": [
  {
   "cell_type": "markdown",
   "metadata": {},
   "source": [
    "# Social Media Disaster Alert System"
   ]
  },
  {
   "cell_type": "markdown",
   "metadata": {},
   "source": [
    "## Final Data Gathering - Twitter API"
   ]
  },
  {
   "cell_type": "markdown",
   "metadata": {},
   "source": [
    "After receiving the confirmation of a developer account we used the Twitter API to pull tweets with emergency terms through our authorization keys and tokens. This data was pulled into a CSV and reviewed for readability. \n",
    "\n",
    "According to the review we revise the dataframe as needed and save it as a CSV file for final analysis and for the map alert system. "
   ]
  },
  {
   "cell_type": "markdown",
   "metadata": {},
   "source": [
    "### Table of Contents"
   ]
  },
  {
   "cell_type": "markdown",
   "metadata": {},
   "source": [
    "- [Collecting Tweets](#Collecting-Tweets)\n",
    "- [Cleaning](#Cleaning)\n"
   ]
  },
  {
   "cell_type": "code",
   "execution_count": 34,
   "metadata": {},
   "outputs": [],
   "source": [
    "#libraries \n",
    "import pandas as pd\n",
    "import numpy as np\n",
    "\n",
    "import tweepy\n",
    "import csv\n",
    "import pandas as pd"
   ]
  },
  {
   "cell_type": "markdown",
   "metadata": {},
   "source": [
    "### Collecting Tweets"
   ]
  },
  {
   "cell_type": "code",
   "execution_count": null,
   "metadata": {},
   "outputs": [],
   "source": [
    "#Inputting the credentials here\n",
    "consumer_key = \"IsPui5aTOkDmBwSLNqFEyEPF7\"\n",
    "consumer_secret = \"wJYNGl586NfOKmWFLqp9jAmPIV2tGOS8QDhDPWAe6faSTtTbDX\"\n",
    "access_token = \"1105657843498258432-XNe0vJwzhx9poa0gJc86BMsl2e2Q0m\"\n",
    "access_secret = \"85j8yuI7xoCc4Aqd5ICpYMwrAZ1dpO30EcdjPjHIC8sNJ\"\n",
    "\n",
    "auth = tweepy.OAuthHandler(consumer_key, consumer_secret)\n",
    "auth.set_access_token(access_token, access_secret)\n",
    "api = tweepy.API(auth,wait_on_rate_limit=True)\n",
    "\n",
    "#Open/Creating a file to append data\n",
    "csvFile = open('emergency', 'a')\n",
    "\n",
    "#Using CSV writer\n",
    "csvWriter = csv.writer(csvFile)\n",
    "    \n",
    "for tweet in tweepy.Cursor(api.search,q=relevant_words,count=100,\n",
    "                           geocode=\"40.909,-73.8891,0.5mi\",\n",
    "                           lang=\"en\",\n",
    "                           since=\"2019-07-31\").items():\n",
    "    print (tweet.created_at, tweet.text)\n",
    "    csvWriter.writerow([tweet.created_at, tweet.text.encode('utf-8')])"
   ]
  },
  {
   "cell_type": "code",
   "execution_count": 4,
   "metadata": {},
   "outputs": [],
   "source": [
    "# Creating dataframe from CSV \n",
    "df = pd.read_csv('./emergency.csv')"
   ]
  },
  {
   "cell_type": "code",
   "execution_count": 5,
   "metadata": {},
   "outputs": [
    {
     "data": {
      "text/html": [
       "<div>\n",
       "<style scoped>\n",
       "    .dataframe tbody tr th:only-of-type {\n",
       "        vertical-align: middle;\n",
       "    }\n",
       "\n",
       "    .dataframe tbody tr th {\n",
       "        vertical-align: top;\n",
       "    }\n",
       "\n",
       "    .dataframe thead th {\n",
       "        text-align: right;\n",
       "    }\n",
       "</style>\n",
       "<table border=\"1\" class=\"dataframe\">\n",
       "  <thead>\n",
       "    <tr style=\"text-align: right;\">\n",
       "      <th></th>\n",
       "      <th>2019-07-30 16:48:21</th>\n",
       "      <th>b'RT @BloodAid: #Patna #Emergency Need 2 units O+ #blood @ AIIMS Hopital. Call 9931977137 #Bloodaid via @Gunjan9732 cc @B4Deo #BloodMatters'</th>\n",
       "    </tr>\n",
       "  </thead>\n",
       "  <tbody>\n",
       "    <tr>\n",
       "      <th>0</th>\n",
       "      <td>2019-07-30 16:45:02</td>\n",
       "      <td>b'RT @BloodAid: #Hyderabad #Emergency Need A+ ...</td>\n",
       "    </tr>\n",
       "    <tr>\n",
       "      <th>1</th>\n",
       "      <td>2019-07-30 16:43:29</td>\n",
       "      <td>b'RT @HoxworthUC: #CRITICAL APPEAL: Due to mul...</td>\n",
       "    </tr>\n",
       "    <tr>\n",
       "      <th>2</th>\n",
       "      <td>2019-07-30 16:43:00</td>\n",
       "      <td>b'RT @terapump_socal: No Leak, No Hassle and N...</td>\n",
       "    </tr>\n",
       "    <tr>\n",
       "      <th>3</th>\n",
       "      <td>2019-07-30 16:42:56</td>\n",
       "      <td>b'RT @BloodAid: #Hyderabad #Emergency Need A+ ...</td>\n",
       "    </tr>\n",
       "    <tr>\n",
       "      <th>4</th>\n",
       "      <td>2019-07-30 16:42:19</td>\n",
       "      <td>b'RT @BloodAid: #Hyderabad #Emergency Need A+ ...</td>\n",
       "    </tr>\n",
       "  </tbody>\n",
       "</table>\n",
       "</div>"
      ],
      "text/plain": [
       "   2019-07-30 16:48:21  \\\n",
       "0  2019-07-30 16:45:02   \n",
       "1  2019-07-30 16:43:29   \n",
       "2  2019-07-30 16:43:00   \n",
       "3  2019-07-30 16:42:56   \n",
       "4  2019-07-30 16:42:19   \n",
       "\n",
       "  b'RT @BloodAid: #Patna #Emergency Need 2 units O+ #blood @ AIIMS Hopital. Call 9931977137 #Bloodaid via @Gunjan9732 cc @B4Deo #BloodMatters'  \n",
       "0  b'RT @BloodAid: #Hyderabad #Emergency Need A+ ...                                                                                            \n",
       "1  b'RT @HoxworthUC: #CRITICAL APPEAL: Due to mul...                                                                                            \n",
       "2  b'RT @terapump_socal: No Leak, No Hassle and N...                                                                                            \n",
       "3  b'RT @BloodAid: #Hyderabad #Emergency Need A+ ...                                                                                            \n",
       "4  b'RT @BloodAid: #Hyderabad #Emergency Need A+ ...                                                                                            "
      ]
     },
     "execution_count": 5,
     "metadata": {},
     "output_type": "execute_result"
    }
   ],
   "source": [
    "# Review to see that all looks good\n",
    "df.head()"
   ]
  },
  {
   "cell_type": "markdown",
   "metadata": {},
   "source": [
    "### Cleaning"
   ]
  },
  {
   "cell_type": "markdown",
   "metadata": {},
   "source": [
    "The data has been pulled and the dataframe created, however, it's hard to read and the columns aren't labeled correctly. We will need to clean the data to make sure it can be read into the alert system."
   ]
  },
  {
   "cell_type": "code",
   "execution_count": 6,
   "metadata": {},
   "outputs": [],
   "source": [
    "#Columms are titled incorrectly so they are renamed below\n",
    "new_columns_dict_act = {\n",
    "    '2019-07-30 16:48:21': 'time',\n",
    "    \"b'RT @BloodAid: #Patna #Emergency Need 2 units O+ #blood @ AIIMS Hopital. Call 9931977137 #Bloodaid via @Gunjan9732 cc @B4Deo #BloodMatters'\": 'text'\n",
    "}\n",
    "\n",
    "df.rename(columns=new_columns_dict_act, inplace=True)"
   ]
  },
  {
   "cell_type": "code",
   "execution_count": 7,
   "metadata": {},
   "outputs": [
    {
     "data": {
      "text/html": [
       "<div>\n",
       "<style scoped>\n",
       "    .dataframe tbody tr th:only-of-type {\n",
       "        vertical-align: middle;\n",
       "    }\n",
       "\n",
       "    .dataframe tbody tr th {\n",
       "        vertical-align: top;\n",
       "    }\n",
       "\n",
       "    .dataframe thead th {\n",
       "        text-align: right;\n",
       "    }\n",
       "</style>\n",
       "<table border=\"1\" class=\"dataframe\">\n",
       "  <thead>\n",
       "    <tr style=\"text-align: right;\">\n",
       "      <th></th>\n",
       "      <th>time</th>\n",
       "      <th>text</th>\n",
       "    </tr>\n",
       "  </thead>\n",
       "  <tbody>\n",
       "    <tr>\n",
       "      <th>0</th>\n",
       "      <td>2019-07-30 16:45:02</td>\n",
       "      <td>b'RT @BloodAid: #Hyderabad #Emergency Need A+ ...</td>\n",
       "    </tr>\n",
       "    <tr>\n",
       "      <th>1</th>\n",
       "      <td>2019-07-30 16:43:29</td>\n",
       "      <td>b'RT @HoxworthUC: #CRITICAL APPEAL: Due to mul...</td>\n",
       "    </tr>\n",
       "    <tr>\n",
       "      <th>2</th>\n",
       "      <td>2019-07-30 16:43:00</td>\n",
       "      <td>b'RT @terapump_socal: No Leak, No Hassle and N...</td>\n",
       "    </tr>\n",
       "    <tr>\n",
       "      <th>3</th>\n",
       "      <td>2019-07-30 16:42:56</td>\n",
       "      <td>b'RT @BloodAid: #Hyderabad #Emergency Need A+ ...</td>\n",
       "    </tr>\n",
       "    <tr>\n",
       "      <th>4</th>\n",
       "      <td>2019-07-30 16:42:19</td>\n",
       "      <td>b'RT @BloodAid: #Hyderabad #Emergency Need A+ ...</td>\n",
       "    </tr>\n",
       "    <tr>\n",
       "      <th>5</th>\n",
       "      <td>2019-07-30 16:41:48</td>\n",
       "      <td>b\"RT @sophiaxiomara: I really need #help. Plea...</td>\n",
       "    </tr>\n",
       "    <tr>\n",
       "      <th>6</th>\n",
       "      <td>2019-07-30 16:40:42</td>\n",
       "      <td>b'RT @JermarcusRobin2: #RESISTANCE #REDALERT #...</td>\n",
       "    </tr>\n",
       "    <tr>\n",
       "      <th>7</th>\n",
       "      <td>2019-07-30 16:38:48</td>\n",
       "      <td>b'RT @BloodAid: #Hyderabad #Emergency Need A+ ...</td>\n",
       "    </tr>\n",
       "    <tr>\n",
       "      <th>8</th>\n",
       "      <td>2019-07-30 16:36:14</td>\n",
       "      <td>b'Stay emergency prepared if at all possible. ...</td>\n",
       "    </tr>\n",
       "    <tr>\n",
       "      <th>9</th>\n",
       "      <td>2019-07-30 16:36:02</td>\n",
       "      <td>b'\"Despite efforts to decrease hospital readmi...</td>\n",
       "    </tr>\n",
       "    <tr>\n",
       "      <th>10</th>\n",
       "      <td>2019-07-30 16:35:20</td>\n",
       "      <td>b'RT @USGSA: #TipTuesday - In an #emergency, G...</td>\n",
       "    </tr>\n",
       "    <tr>\n",
       "      <th>11</th>\n",
       "      <td>2019-07-30 16:34:20</td>\n",
       "      <td>b'RT @HoxworthUC: #CRITICAL APPEAL: Due to mul...</td>\n",
       "    </tr>\n",
       "    <tr>\n",
       "      <th>12</th>\n",
       "      <td>2019-07-30 16:33:01</td>\n",
       "      <td>b'Do you know who to call when you need help?\\...</td>\n",
       "    </tr>\n",
       "    <tr>\n",
       "      <th>13</th>\n",
       "      <td>2019-07-30 16:31:55</td>\n",
       "      <td>b'RT @BloodAid: #Hyderabad #Emergency Need A+ ...</td>\n",
       "    </tr>\n",
       "    <tr>\n",
       "      <th>14</th>\n",
       "      <td>2019-07-30 16:29:57</td>\n",
       "      <td>b'I need to go to Pakistan, ASAP @MIAuniverse ...</td>\n",
       "    </tr>\n",
       "    <tr>\n",
       "      <th>15</th>\n",
       "      <td>2019-07-30 16:28:37</td>\n",
       "      <td>b'RT @BloodAid: #Hyderabad #Emergency Need A+ ...</td>\n",
       "    </tr>\n",
       "    <tr>\n",
       "      <th>16</th>\n",
       "      <td>2019-07-30 16:27:00</td>\n",
       "      <td>b\"At Drain Doctor #Birmingham #Plumbing and Dr...</td>\n",
       "    </tr>\n",
       "    <tr>\n",
       "      <th>17</th>\n",
       "      <td>2019-07-30 16:23:48</td>\n",
       "      <td>b'Climate Change Is Impacting Every Aspect of ...</td>\n",
       "    </tr>\n",
       "    <tr>\n",
       "      <th>18</th>\n",
       "      <td>2019-07-30 16:21:00</td>\n",
       "      <td>b'#TipTuesday - In an #emergency, GSAAdvantage...</td>\n",
       "    </tr>\n",
       "    <tr>\n",
       "      <th>19</th>\n",
       "      <td>2019-07-30 16:20:40</td>\n",
       "      <td>b'RT @Vloneslay: I never thought id see myself...</td>\n",
       "    </tr>\n",
       "  </tbody>\n",
       "</table>\n",
       "</div>"
      ],
      "text/plain": [
       "                   time                                               text\n",
       "0   2019-07-30 16:45:02  b'RT @BloodAid: #Hyderabad #Emergency Need A+ ...\n",
       "1   2019-07-30 16:43:29  b'RT @HoxworthUC: #CRITICAL APPEAL: Due to mul...\n",
       "2   2019-07-30 16:43:00  b'RT @terapump_socal: No Leak, No Hassle and N...\n",
       "3   2019-07-30 16:42:56  b'RT @BloodAid: #Hyderabad #Emergency Need A+ ...\n",
       "4   2019-07-30 16:42:19  b'RT @BloodAid: #Hyderabad #Emergency Need A+ ...\n",
       "5   2019-07-30 16:41:48  b\"RT @sophiaxiomara: I really need #help. Plea...\n",
       "6   2019-07-30 16:40:42  b'RT @JermarcusRobin2: #RESISTANCE #REDALERT #...\n",
       "7   2019-07-30 16:38:48  b'RT @BloodAid: #Hyderabad #Emergency Need A+ ...\n",
       "8   2019-07-30 16:36:14  b'Stay emergency prepared if at all possible. ...\n",
       "9   2019-07-30 16:36:02  b'\"Despite efforts to decrease hospital readmi...\n",
       "10  2019-07-30 16:35:20  b'RT @USGSA: #TipTuesday - In an #emergency, G...\n",
       "11  2019-07-30 16:34:20  b'RT @HoxworthUC: #CRITICAL APPEAL: Due to mul...\n",
       "12  2019-07-30 16:33:01  b'Do you know who to call when you need help?\\...\n",
       "13  2019-07-30 16:31:55  b'RT @BloodAid: #Hyderabad #Emergency Need A+ ...\n",
       "14  2019-07-30 16:29:57  b'I need to go to Pakistan, ASAP @MIAuniverse ...\n",
       "15  2019-07-30 16:28:37  b'RT @BloodAid: #Hyderabad #Emergency Need A+ ...\n",
       "16  2019-07-30 16:27:00  b\"At Drain Doctor #Birmingham #Plumbing and Dr...\n",
       "17  2019-07-30 16:23:48  b'Climate Change Is Impacting Every Aspect of ...\n",
       "18  2019-07-30 16:21:00  b'#TipTuesday - In an #emergency, GSAAdvantage...\n",
       "19  2019-07-30 16:20:40  b'RT @Vloneslay: I never thought id see myself..."
      ]
     },
     "execution_count": 7,
     "metadata": {},
     "output_type": "execute_result"
    }
   ],
   "source": [
    "#Reviewing dataframe to confirm it worked\n",
    "df.head(20)"
   ]
  },
  {
   "cell_type": "code",
   "execution_count": 15,
   "metadata": {},
   "outputs": [
    {
     "data": {
      "text/html": [
       "<div>\n",
       "<style scoped>\n",
       "    .dataframe tbody tr th:only-of-type {\n",
       "        vertical-align: middle;\n",
       "    }\n",
       "\n",
       "    .dataframe tbody tr th {\n",
       "        vertical-align: top;\n",
       "    }\n",
       "\n",
       "    .dataframe thead th {\n",
       "        text-align: right;\n",
       "    }\n",
       "</style>\n",
       "<table border=\"1\" class=\"dataframe\">\n",
       "  <thead>\n",
       "    <tr style=\"text-align: right;\">\n",
       "      <th></th>\n",
       "      <th>time</th>\n",
       "      <th>text</th>\n",
       "    </tr>\n",
       "  </thead>\n",
       "  <tbody>\n",
       "    <tr>\n",
       "      <th>0</th>\n",
       "      <td>2019-07-30 16:45:02</td>\n",
       "      <td>RT @BloodAid: #Hyderabad #Emergency Need A+ #b...</td>\n",
       "    </tr>\n",
       "    <tr>\n",
       "      <th>1</th>\n",
       "      <td>2019-07-30 16:43:29</td>\n",
       "      <td>RT @HoxworthUC: #CRITICAL APPEAL: Due to multi...</td>\n",
       "    </tr>\n",
       "    <tr>\n",
       "      <th>2</th>\n",
       "      <td>2019-07-30 16:43:00</td>\n",
       "      <td>RT @terapump_socal: No Leak, No Hassle and No ...</td>\n",
       "    </tr>\n",
       "    <tr>\n",
       "      <th>3</th>\n",
       "      <td>2019-07-30 16:42:56</td>\n",
       "      <td>RT @BloodAid: #Hyderabad #Emergency Need A+ #b...</td>\n",
       "    </tr>\n",
       "    <tr>\n",
       "      <th>4</th>\n",
       "      <td>2019-07-30 16:42:19</td>\n",
       "      <td>RT @BloodAid: #Hyderabad #Emergency Need A+ #b...</td>\n",
       "    </tr>\n",
       "  </tbody>\n",
       "</table>\n",
       "</div>"
      ],
      "text/plain": [
       "                  time                                               text\n",
       "0  2019-07-30 16:45:02  RT @BloodAid: #Hyderabad #Emergency Need A+ #b...\n",
       "1  2019-07-30 16:43:29  RT @HoxworthUC: #CRITICAL APPEAL: Due to multi...\n",
       "2  2019-07-30 16:43:00  RT @terapump_socal: No Leak, No Hassle and No ...\n",
       "3  2019-07-30 16:42:56  RT @BloodAid: #Hyderabad #Emergency Need A+ #b...\n",
       "4  2019-07-30 16:42:19  RT @BloodAid: #Hyderabad #Emergency Need A+ #b..."
      ]
     },
     "execution_count": 15,
     "metadata": {},
     "output_type": "execute_result"
    }
   ],
   "source": [
    "#There looks to be a \"b'\" at the beginning of each tweet in the text column\n",
    "# Code below to get rid of \"b'\"\n",
    "df['text'] = df['text'].str[2:]\n",
    "df.head()"
   ]
  },
  {
   "cell_type": "code",
   "execution_count": 28,
   "metadata": {},
   "outputs": [
    {
     "data": {
      "text/plain": [
       "time    object\n",
       "text    object\n",
       "dtype: object"
      ]
     },
     "execution_count": 28,
     "metadata": {},
     "output_type": "execute_result"
    }
   ],
   "source": [
    "#Checking the dataframe objects\n",
    "df.dtypes"
   ]
  },
  {
   "cell_type": "code",
   "execution_count": 31,
   "metadata": {},
   "outputs": [
    {
     "data": {
      "text/plain": [
       "time    datetime64[ns]\n",
       "text            object\n",
       "dtype: object"
      ]
     },
     "execution_count": 31,
     "metadata": {},
     "output_type": "execute_result"
    }
   ],
   "source": [
    "#Change type to datetime for \"time\" if we want to use it for further time analysis\n",
    "df['time'] = pd.to_datetime(df['time'])\n",
    "\n",
    "df.dtypes"
   ]
  },
  {
   "cell_type": "code",
   "execution_count": 35,
   "metadata": {},
   "outputs": [],
   "source": [
    "#Assigning lat and lon within Greater New York Area to each tweet\n",
    "#Twitter will pull data according to lat and lon but individual tweets don't have geo assigned\n",
    "\n",
    "lat_coor = np.random.uniform(40.5372,40.9090, size = df.shape[0])\n",
    "lon_coor = np.random.uniform(-74.2454, -73.7156, size = df.shape[0])\n",
    "df['lat'] = lat_coor\n",
    "df['lon'] = lon_coor"
   ]
  },
  {
   "cell_type": "code",
   "execution_count": 36,
   "metadata": {},
   "outputs": [
    {
     "data": {
      "text/html": [
       "<div>\n",
       "<style scoped>\n",
       "    .dataframe tbody tr th:only-of-type {\n",
       "        vertical-align: middle;\n",
       "    }\n",
       "\n",
       "    .dataframe tbody tr th {\n",
       "        vertical-align: top;\n",
       "    }\n",
       "\n",
       "    .dataframe thead th {\n",
       "        text-align: right;\n",
       "    }\n",
       "</style>\n",
       "<table border=\"1\" class=\"dataframe\">\n",
       "  <thead>\n",
       "    <tr style=\"text-align: right;\">\n",
       "      <th></th>\n",
       "      <th>time</th>\n",
       "      <th>text</th>\n",
       "      <th>lat</th>\n",
       "      <th>lon</th>\n",
       "    </tr>\n",
       "  </thead>\n",
       "  <tbody>\n",
       "    <tr>\n",
       "      <th>0</th>\n",
       "      <td>2019-07-30 16:45:02</td>\n",
       "      <td>RT @BloodAid: #Hyderabad #Emergency Need A+ #b...</td>\n",
       "      <td>40.754305</td>\n",
       "      <td>-74.144927</td>\n",
       "    </tr>\n",
       "    <tr>\n",
       "      <th>1</th>\n",
       "      <td>2019-07-30 16:43:29</td>\n",
       "      <td>RT @HoxworthUC: #CRITICAL APPEAL: Due to multi...</td>\n",
       "      <td>40.856658</td>\n",
       "      <td>-74.101605</td>\n",
       "    </tr>\n",
       "    <tr>\n",
       "      <th>2</th>\n",
       "      <td>2019-07-30 16:43:00</td>\n",
       "      <td>RT @terapump_socal: No Leak, No Hassle and No ...</td>\n",
       "      <td>40.625146</td>\n",
       "      <td>-73.771159</td>\n",
       "    </tr>\n",
       "    <tr>\n",
       "      <th>3</th>\n",
       "      <td>2019-07-30 16:42:56</td>\n",
       "      <td>RT @BloodAid: #Hyderabad #Emergency Need A+ #b...</td>\n",
       "      <td>40.871323</td>\n",
       "      <td>-73.766075</td>\n",
       "    </tr>\n",
       "    <tr>\n",
       "      <th>4</th>\n",
       "      <td>2019-07-30 16:42:19</td>\n",
       "      <td>RT @BloodAid: #Hyderabad #Emergency Need A+ #b...</td>\n",
       "      <td>40.619937</td>\n",
       "      <td>-73.992653</td>\n",
       "    </tr>\n",
       "  </tbody>\n",
       "</table>\n",
       "</div>"
      ],
      "text/plain": [
       "                 time                                               text  \\\n",
       "0 2019-07-30 16:45:02  RT @BloodAid: #Hyderabad #Emergency Need A+ #b...   \n",
       "1 2019-07-30 16:43:29  RT @HoxworthUC: #CRITICAL APPEAL: Due to multi...   \n",
       "2 2019-07-30 16:43:00  RT @terapump_socal: No Leak, No Hassle and No ...   \n",
       "3 2019-07-30 16:42:56  RT @BloodAid: #Hyderabad #Emergency Need A+ #b...   \n",
       "4 2019-07-30 16:42:19  RT @BloodAid: #Hyderabad #Emergency Need A+ #b...   \n",
       "\n",
       "         lat        lon  \n",
       "0  40.754305 -74.144927  \n",
       "1  40.856658 -74.101605  \n",
       "2  40.625146 -73.771159  \n",
       "3  40.871323 -73.766075  \n",
       "4  40.619937 -73.992653  "
      ]
     },
     "execution_count": 36,
     "metadata": {},
     "output_type": "execute_result"
    }
   ],
   "source": [
    "#Checking to see that it worked\n",
    "df.head()"
   ]
  },
  {
   "cell_type": "code",
   "execution_count": 41,
   "metadata": {},
   "outputs": [],
   "source": [
    "#Save dataset to be further evaluated now that we've gathered what we need\n",
    "df.to_csv('emergency_tweet_final.csv')"
   ]
  }
 ],
 "metadata": {
  "kernelspec": {
   "display_name": "Python 3",
   "language": "python",
   "name": "python3"
  },
  "language_info": {
   "codemirror_mode": {
    "name": "ipython",
    "version": 3
   },
   "file_extension": ".py",
   "mimetype": "text/x-python",
   "name": "python",
   "nbconvert_exporter": "python",
   "pygments_lexer": "ipython3",
   "version": "3.7.3"
  }
 },
 "nbformat": 4,
 "nbformat_minor": 2
}
